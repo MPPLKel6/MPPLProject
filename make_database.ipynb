{
 "cells": [
  {
   "cell_type": "markdown",
   "metadata": {},
   "source": [
    "# Make DataBase"
   ]
  },
  {
   "cell_type": "code",
   "execution_count": 1,
   "metadata": {},
   "outputs": [],
   "source": [
    "from sqlalchemy import create_engine, Table, Column, Integer, String, MetaData, Date, ForeignKey, insert, select\n",
    "from sqlalchemy.orm import declarative_base, relationship, Session, sessionmaker\n",
    "from sqlalchemy_utils import create_database, database_exists\n",
    "import json\n",
    "import random\n",
    "import numpy as np\n",
    "import pandas as pd\n",
    "from datetime import date"
   ]
  },
  {
   "cell_type": "code",
   "execution_count": 2,
   "metadata": {},
   "outputs": [
    {
     "data": {
      "text/plain": [
       "<sqlalchemy.engine.cursor.LegacyCursorResult at 0x1b59a305bd0>"
      ]
     },
     "execution_count": 2,
     "metadata": {},
     "output_type": "execute_result"
    }
   ],
   "source": [
    "Base = declarative_base()\n",
    "\n",
    "db_master = create_engine(\"mysql+pymysql://root:@localhost/information_schema\")\n",
    "db_master.execute(\"DROP DATABASE IF EXISTS mppl\")"
   ]
  },
  {
   "cell_type": "code",
   "execution_count": 3,
   "metadata": {},
   "outputs": [],
   "source": [
    "engine = create_engine(\"mysql+pymysql://root:@localhost/mppl\")\n",
    "if not database_exists(engine.url):\n",
    "    create_database(engine.url)"
   ]
  },
  {
   "cell_type": "code",
   "execution_count": 4,
   "metadata": {},
   "outputs": [],
   "source": [
    "meta = MetaData()"
   ]
  },
  {
   "cell_type": "code",
   "execution_count": 5,
   "metadata": {},
   "outputs": [],
   "source": [
    "aparatwarga = Table(\n",
    "    \"Aparat_warga_assoc\",\n",
    "    Base.metadata,\n",
    "    Column(\"aparat_id\", ForeignKey(\"AparatDesa.AparatID\")),\n",
    "    Column(\"warga_id\", ForeignKey(\"WargaDesa.WargaID\")),\n",
    ")"
   ]
  },
  {
   "cell_type": "code",
   "execution_count": 6,
   "metadata": {},
   "outputs": [],
   "source": [
    "class dusun(Base):\n",
    "    __tablename__ = \"Dusun\"\n",
    "    DusunID = Column(Integer, autoincrement=True, primary_key=True)\n",
    "    Nama_Dusun = Column(String(64))\n",
    "    dusunku = relationship(\"wargadesa\")"
   ]
  },
  {
   "cell_type": "code",
   "execution_count": 7,
   "metadata": {},
   "outputs": [],
   "source": [
    "class wargadesa(Base):\n",
    "    __tablename__ = \"WargaDesa\"\n",
    "    WargaID = Column(Integer, autoincrement=True, primary_key=True)\n",
    "    NIK = Column(String(16))\n",
    "    Nama = Column(String(64))\n",
    "    Nomor_KK = Column(String(16))\n",
    "    Jenis_Kelamin = Column(String(32))\n",
    "    Status_Perkawinan = Column(String(32))\n",
    "    Tanggal_Lahir = Column(Date)\n",
    "    Pekerjaan = Column(String(64))\n",
    "    Status_Dalam_Keluarga = Column(String(64))\n",
    "    Nomor_Telepon = Column(String(16))\n",
    "    aparat = relationship(\"aparat_desa\", secondary=aparatwarga)\n",
    "    dusun_id = Column(Integer, ForeignKey(\"Dusun.DusunID\"))"
   ]
  },
  {
   "cell_type": "code",
   "execution_count": 8,
   "metadata": {},
   "outputs": [],
   "source": [
    "class aparat_desa(Base):\n",
    "    __tablename__ = \"AparatDesa\"\n",
    "    AparatID = Column(Integer, autoincrement=True, primary_key=True)\n",
    "    Nama = Column(String(64))\n",
    "    Email = Column(String(128))"
   ]
  },
  {
   "cell_type": "code",
   "execution_count": 9,
   "metadata": {},
   "outputs": [],
   "source": [
    "Base.metadata.create_all(engine)"
   ]
  },
  {
   "cell_type": "code",
   "execution_count": 10,
   "metadata": {},
   "outputs": [],
   "source": [
    "with open(\"data_json.json\", \"r\") as openfile:\n",
    "    data_masukan = json.load(openfile)"
   ]
  },
  {
   "cell_type": "code",
   "execution_count": 11,
   "metadata": {},
   "outputs": [],
   "source": [
    "for nama_dusun in data_masukan[\"nama_dusun\"]:\n",
    "    stmt = insert(dusun).values(Nama_Dusun=nama_dusun)\n",
    "    with engine.connect() as conn:\n",
    "        conn.execute(stmt)"
   ]
  },
  {
   "cell_type": "code",
   "execution_count": 12,
   "metadata": {},
   "outputs": [],
   "source": [
    "connection = engine.connect()\n",
    "stmt = select(dusun)\n",
    "data = connection.execute(stmt)\n",
    "data = list(data)\n",
    "kolom_dusun = dusun.__table__.columns.keys()\n",
    "hasil = list(map(list, zip(*data)))\n",
    "indeks = 0\n",
    "for i in kolom_dusun:\n",
    "    globals()[i] = hasil[indeks]\n",
    "    indeks += 1"
   ]
  },
  {
   "cell_type": "markdown",
   "metadata": {},
   "source": [
    "# Masukkan Data Warga Desa"
   ]
  },
  {
   "cell_type": "code",
   "execution_count": 13,
   "metadata": {},
   "outputs": [
    {
     "data": {
      "text/plain": [
       "array(['1945-01-01', '1945-01-02', '1945-01-03', ..., '2022-12-29',\n",
       "       '2022-12-30', '2022-12-31'], dtype='datetime64[D]')"
      ]
     },
     "execution_count": 13,
     "metadata": {},
     "output_type": "execute_result"
    }
   ],
   "source": [
    "data_masukan[\"tanggal_lahir\"] = np.array(data_masukan[\"tanggal_lahir\"],dtype='datetime64')\n",
    "data_masukan[\"tanggal_lahir\"]"
   ]
  },
  {
   "cell_type": "code",
   "execution_count": 14,
   "metadata": {},
   "outputs": [],
   "source": [
    "from datetime import date\n",
    "tanggal_belum_kawin = data_masukan[\"tanggal_lahir\"][((date.today().year - data_masukan[\"tanggal_lahir\"].astype('datetime64[Y]').astype(\"int64\") - 1970) >= 17) & ((date.today().year - data_masukan[\"tanggal_lahir\"].astype('datetime64[Y]').astype(\"int64\") - 1970) < 25)]\n",
    "tanggal_kawin = data_masukan[\"tanggal_lahir\"][((date.today().year - data_masukan[\"tanggal_lahir\"].astype('datetime64[Y]').astype(\"int64\") - 1970) >= 25)]"
   ]
  },
  {
   "cell_type": "code",
   "execution_count": 15,
   "metadata": {},
   "outputs": [],
   "source": [
    "prefix_telepon = ['0852','0853','0811','0812','0813','0821','0822','0851','0896','0895',\n",
    "                    '0897','0898','0899','0817','0818','0819','0859','0877','0878','0813','0832',\n",
    "                    '0833','0838','0881','0882','0883','0884','0885','0886','0887','0888','0889']"
   ]
  },
  {
   "cell_type": "code",
   "execution_count": 16,
   "metadata": {},
   "outputs": [],
   "source": [
    "tabel_dusun = pd.read_sql_query('SELECT * FROM dusun',engine)\n",
    "\n",
    "# buat seberapa keluarganya\n",
    "kk_rand_4dig = [str(i).zfill(4) for i in range(10000)]\n",
    "\n",
    "import datetime\n",
    "for wargaid in range(10000):\n",
    "    Nomor_KK  = \"331223\"\n",
    "    Nomor_KTP = \"331223\"\n",
    "    status_kawin = random.choice(data_masukan[\"status_perkawinan\"])\n",
    "    dusunidku = random.choice(tabel_dusun['DusunID'].tolist())\n",
    "    if(status_kawin == \"Belum Kawin\"):\n",
    "        tanggal_lahir      = random.choice(tanggal_belum_kawin)\n",
    "        usia               = date.today().year - (1970 + tanggal_lahir.astype('datetime64[Y]').astype(\"int64\"))\n",
    "        tanggal_kk         = tanggal_lahir - np.timedelta64(17*365,'D')\n",
    "        tanggal_kk         = tanggal_kk.astype(datetime.datetime)\n",
    "        tanggal_kk         = tanggal_kk.strftime('%d%m%y')\n",
    "        tanggal_kkt        = tanggal_kk\n",
    "        Nomor_KK          += tanggal_kk\n",
    "        Nomor_KK          += random.choice(kk_rand_4dig)\n",
    "        jenis_kelamin      = random.choice(data_masukan[\"jenis_kelamin\"])\n",
    "        nama               = ''\n",
    "        tanggal_kkt_kel    = int(tanggal_kkt[:2])\n",
    "        tanggal_kkt_antkel = tanggal_kkt[2:]\n",
    "        if(jenis_kelamin=='Laki-Laki'):\n",
    "            first_name = random.choice(data_masukan[\"nama_laki_laki\"])\n",
    "            last_name  = random.choice(data_masukan[\"nama_laki_laki\"])\n",
    "        else:\n",
    "            first_name = random.choice(data_masukan[\"nama_perempuan\"])\n",
    "            last_name  = random.choice(data_masukan[\"nama_perempuan\"])\n",
    "            tanggal_kkt_kel += 50\n",
    "            tanggal_kkt = str(tanggal_kkt_kel) + tanggal_kkt_antkel\n",
    "        nama       = first_name + ' ' + last_name\n",
    "\n",
    "        Nomor_KTP += tanggal_kkt\n",
    "        Nomor_KTP += random.choice(kk_rand_4dig)\n",
    "        pekerjaan  = random.choice(data_masukan['pekerjaan'])\n",
    "        status_kel = 'Kepala Keluarga'\n",
    "        nomor_telepon = random.choice(prefix_telepon) + ''.join([str(random.randint(0, 9)) for _ in range(6)])\n",
    "        # ['WargaID','NIK','Nama','Nomor_KK','Jenis_Kelamin','Status_Perkawinan','Tanggal_Lahir','Pekerjaan','Status_Dalam_Keluarga','Nomor_Telepon','dusun_id']\n",
    "        #ini aja\n",
    "        stmt = insert(wargadesa).values(NIK=Nomor_KTP,Nama=nama,Nomor_KK=Nomor_KK,Jenis_Kelamin=jenis_kelamin,Status_Perkawinan=status_kawin,\n",
    "                                        Tanggal_Lahir=tanggal_lahir,Pekerjaan=pekerjaan,Status_Dalam_Keluarga=status_kel,Nomor_Telepon=nomor_telepon,\n",
    "                                        dusun_id = dusunidku)\n",
    "        with engine.connect() as conn:\n",
    "            conn.execute(stmt)\n",
    "\n",
    "    elif(status_kawin == \"Kawin\"):\n",
    "        tanggal_lahir = random.choice(tanggal_kawin)\n",
    "        usia = date.today().year - (1970 + tanggal_lahir.astype('datetime64[Y]').astype(\"int64\"))\n",
    "        tanggal_kk = tanggal_lahir - np.timedelta64(25*365,'D')\n",
    "        tanggal_kk = tanggal_kk.astype(datetime.datetime)\n",
    "        tanggal_kk  = tanggal_kk.strftime('%d%m%y')\n",
    "        tanggal_kkt        = tanggal_kk\n",
    "        Nomor_KK          += tanggal_kk\n",
    "        Nomor_KK += tanggal_kk\n",
    "        Nomor_KK += random.choice(kk_rand_4dig)\n",
    "        status_kel = 'Kepala Keluarga'\n",
    "        jenis_kelamin = \"Laki-Laki\"\n",
    "        Nomor_KTP += tanggal_kkt\n",
    "        Nomor_KTP += random.choice(kk_rand_4dig)\n",
    "        first_name = random.choice(data_masukan[\"nama_laki_laki\"])\n",
    "        last_name  = random.choice(data_masukan[\"nama_laki_laki\"])\n",
    "        nama       = first_name + ' ' + last_name\n",
    "        pekerjaan  = random.choice(data_masukan['pekerjaan'])\n",
    "        nomor_telepon = random.choice(prefix_telepon) + ''.join([str(random.randint(0, 9)) for _ in range(6)])\n",
    "        stmt = insert(wargadesa).values(NIK=Nomor_KTP,Nama=nama,Nomor_KK=Nomor_KK,Jenis_Kelamin=jenis_kelamin,Status_Perkawinan=status_kawin,\n",
    "                                        Tanggal_Lahir=tanggal_lahir,Pekerjaan=pekerjaan,Status_Dalam_Keluarga=status_kel,Nomor_Telepon=nomor_telepon,\n",
    "                                        dusun_id = dusunidku)\n",
    "        with engine.connect() as conn:\n",
    "            conn.execute(stmt)\n",
    "\n",
    "        Nomor_KTP = \"331223\"\n",
    "        tanggal_lahir = random.choice(tanggal_kawin)\n",
    "        usia = date.today().year - (1970 + tanggal_lahir.astype('datetime64[Y]').astype(\"int64\"))\n",
    "        tanggal_kk = tanggal_lahir - np.timedelta64(25*365,'D')\n",
    "        tanggal_kk = tanggal_kk.astype(datetime.datetime)\n",
    "        tanggal_kk  = tanggal_kk.strftime('%d%m%y')\n",
    "        tanggal_kkt        = tanggal_kk\n",
    "        tanggal_kkt_kel    = int(tanggal_kkt[:2])\n",
    "        tanggal_kkt_antkel = tanggal_kkt[2:]\n",
    "        tanggal_kkt_kel += 50\n",
    "        tanggal_kkt = str(tanggal_kkt_kel) + tanggal_kkt_antkel\n",
    "        status_kel = 'Istri'\n",
    "        jenis_kelamin = \"Perempuan\"\n",
    "        Nomor_KTP += tanggal_kkt\n",
    "        Nomor_KTP += random.choice(kk_rand_4dig)\n",
    "        first_name = random.choice(data_masukan[\"nama_perempuan\"])\n",
    "        last_name  = random.choice(data_masukan[\"nama_perempuan\"])\n",
    "        nama       = first_name + ' ' + last_name\n",
    "        pekerjaan  = random.choice(data_masukan['pekerjaan'])\n",
    "        nomor_telepon = random.choice(prefix_telepon) + ''.join([str(random.randint(0, 9)) for _ in range(6)])\n",
    "        stmt = insert(wargadesa).values(NIK=Nomor_KTP,Nama=nama,Nomor_KK=Nomor_KK,Jenis_Kelamin=jenis_kelamin,Status_Perkawinan=status_kawin,\n",
    "                                        Tanggal_Lahir=tanggal_lahir,Pekerjaan=pekerjaan,Status_Dalam_Keluarga=status_kel,Nomor_Telepon=nomor_telepon,\n",
    "                                        dusun_id = dusunidku)\n",
    "        with engine.connect() as conn:\n",
    "            conn.execute(stmt)\n",
    "\n",
    "        jumlah_anak = random.randint(0,5)\n",
    "        if(jumlah_anak != 0):\n",
    "            for i in range(jumlah_anak):\n",
    "                Nomor_KTP = \"331223\"\n",
    "                tanggal_lahir      = random.choice(tanggal_belum_kawin)\n",
    "                usia               = date.today().year - (1970 + tanggal_lahir.astype('datetime64[Y]').astype(\"int64\"))\n",
    "                tanggal_kk         = tanggal_lahir - np.timedelta64(17*365,'D')\n",
    "                tanggal_kk         = tanggal_kk.astype(datetime.datetime)\n",
    "                tanggal_kk         = tanggal_kk.strftime('%d%m%y')\n",
    "                tanggal_kkt        = tanggal_kk\n",
    "                jenis_kelamin      = random.choice(data_masukan[\"jenis_kelamin\"])\n",
    "                nama               = ''\n",
    "                tanggal_kkt_kel    = int(tanggal_kkt[:2])\n",
    "                tanggal_kkt_antkel = tanggal_kkt[2:]\n",
    "                if(jenis_kelamin=='Laki-Laki'):\n",
    "                    first_name = random.choice(data_masukan[\"nama_laki_laki\"])\n",
    "                    last_name  = random.choice(data_masukan[\"nama_laki_laki\"])\n",
    "                else:\n",
    "                    first_name = random.choice(data_masukan[\"nama_perempuan\"])\n",
    "                    last_name  = random.choice(data_masukan[\"nama_perempuan\"])\n",
    "                    tanggal_kkt_kel += 50\n",
    "                    tanggal_kkt = str(tanggal_kkt_kel) + tanggal_kkt_antkel\n",
    "                nama       = first_name + ' ' + last_name\n",
    "\n",
    "                Nomor_KTP += tanggal_kkt\n",
    "                Nomor_KTP += random.choice(kk_rand_4dig)\n",
    "                pekerjaan  = random.choice(data_masukan['pekerjaan'])\n",
    "                status_kel = 'Anak'\n",
    "                nomor_telepon = random.choice(prefix_telepon) + ''.join([str(random.randint(0, 9)) for _ in range(6)])\n",
    "                # ['WargaID','NIK','Nama','Nomor_KK','Jenis_Kelamin','Status_Perkawinan','Tanggal_Lahir','Pekerjaan','Status_Dalam_Keluarga','Nomor_Telepon','dusun_id']\n",
    "                #ini aja\n",
    "                stmt = insert(wargadesa).values(NIK=Nomor_KTP,Nama=nama,Nomor_KK=Nomor_KK,Jenis_Kelamin=jenis_kelamin,Status_Perkawinan=status_kawin,\n",
    "                                                Tanggal_Lahir=tanggal_lahir,Pekerjaan=pekerjaan,Status_Dalam_Keluarga=status_kel,Nomor_Telepon=nomor_telepon,\n",
    "                                                dusun_id = dusunidku)\n",
    "                with engine.connect() as conn:\n",
    "                    conn.execute(stmt)\n",
    "    else:\n",
    "        tanggal_lahir = random.choice(tanggal_kawin)\n",
    "        usia = date.today().year - (1970 + tanggal_lahir.astype('datetime64[Y]').astype(\"int64\"))\n",
    "        tanggal_kk = tanggal_lahir - np.timedelta64(25*365,'D')\n",
    "        tanggal_kk = tanggal_kk.astype(datetime.datetime)\n",
    "        tanggal_kk  = tanggal_kk.strftime('%d%m%y')\n",
    "        tanggal_kkt        = tanggal_kk\n",
    "        Nomor_KK          += tanggal_kk\n",
    "        Nomor_KK += tanggal_kk\n",
    "        Nomor_KK += random.choice(kk_rand_4dig)\n",
    "        status_kel = 'Kepala Keluarga'\n",
    "        Nomor_KTP += tanggal_kkt\n",
    "        Nomor_KTP += random.choice(kk_rand_4dig)\n",
    "        \n",
    "        tanggal_kkt_kel    = int(tanggal_kkt[:2])\n",
    "        tanggal_kkt_antkel = tanggal_kkt[2:]\n",
    "        if(jenis_kelamin=='Laki-Laki'):\n",
    "            first_name = random.choice(data_masukan[\"nama_laki_laki\"])\n",
    "            last_name  = random.choice(data_masukan[\"nama_laki_laki\"])\n",
    "        else:\n",
    "            first_name = random.choice(data_masukan[\"nama_perempuan\"])\n",
    "            last_name  = random.choice(data_masukan[\"nama_perempuan\"])\n",
    "            tanggal_kkt_kel += 50\n",
    "            tanggal_kkt = str(tanggal_kkt_kel) + tanggal_kkt_antkel\n",
    "        nama       = first_name + ' ' + last_name\n",
    "\n",
    "        pekerjaan  = random.choice(data_masukan['pekerjaan'])\n",
    "        nomor_telepon = random.choice(prefix_telepon) + ''.join([str(random.randint(0, 9)) for _ in range(6)])\n",
    "        stmt = insert(wargadesa).values(NIK=Nomor_KTP,Nama=nama,Nomor_KK=Nomor_KK,Jenis_Kelamin=jenis_kelamin,Status_Perkawinan=status_kawin,\n",
    "                                        Tanggal_Lahir=tanggal_lahir,Pekerjaan=pekerjaan,Status_Dalam_Keluarga=status_kel,Nomor_Telepon=nomor_telepon,\n",
    "                                        dusun_id = dusunidku)\n",
    "        with engine.connect() as conn:\n",
    "            conn.execute(stmt)\n",
    "\n",
    "        jumlah_anak = random.randint(0,5)\n",
    "        if(jumlah_anak != 0):\n",
    "            for i in range(jumlah_anak):\n",
    "                Nomor_KTP          = \"331223\"\n",
    "                tanggal_lahir      = random.choice(tanggal_belum_kawin)\n",
    "                usia               = date.today().year - (1970 + tanggal_lahir.astype('datetime64[Y]').astype(\"int64\"))\n",
    "                tanggal_kk         = tanggal_lahir - np.timedelta64(17*365,'D')\n",
    "                tanggal_kk         = tanggal_kk.astype(datetime.datetime)\n",
    "                tanggal_kk         = tanggal_kk.strftime('%d%m%y')\n",
    "                tanggal_kkt        = tanggal_kk\n",
    "                jenis_kelamin      = random.choice(data_masukan[\"jenis_kelamin\"])\n",
    "                nama               = ''\n",
    "                tanggal_kkt_kel    = int(tanggal_kkt[:2])\n",
    "                tanggal_kkt_antkel = tanggal_kkt[2:]\n",
    "                if(jenis_kelamin=='Laki-Laki'):\n",
    "                    first_name = random.choice(data_masukan[\"nama_laki_laki\"])\n",
    "                    last_name  = random.choice(data_masukan[\"nama_laki_laki\"])\n",
    "                else:\n",
    "                    first_name = random.choice(data_masukan[\"nama_perempuan\"])\n",
    "                    last_name  = random.choice(data_masukan[\"nama_perempuan\"])\n",
    "                    tanggal_kkt_kel += 50\n",
    "                    tanggal_kkt = str(tanggal_kkt_kel) + tanggal_kkt_antkel\n",
    "                nama       = first_name + ' ' + last_name\n",
    "\n",
    "                Nomor_KTP += tanggal_kkt\n",
    "                Nomor_KTP += random.choice(kk_rand_4dig)\n",
    "                pekerjaan  = random.choice(data_masukan['pekerjaan'])\n",
    "                status_kel = 'Anak'\n",
    "                nomor_telepon = random.choice(prefix_telepon) + ''.join([str(random.randint(0, 9)) for _ in range(6)])\n",
    "                # ['WargaID','NIK','Nama','Nomor_KK','Jenis_Kelamin','Status_Perkawinan','Tanggal_Lahir','Pekerjaan','Status_Dalam_Keluarga','Nomor_Telepon','dusun_id']\n",
    "                #ini aja\n",
    "                stmt = insert(wargadesa).values(NIK=Nomor_KTP,Nama=nama,Nomor_KK=Nomor_KK,Jenis_Kelamin=jenis_kelamin,Status_Perkawinan=status_kawin,\n",
    "                                                Tanggal_Lahir=tanggal_lahir,Pekerjaan=pekerjaan,Status_Dalam_Keluarga=status_kel,Nomor_Telepon=nomor_telepon,\n",
    "                                                dusun_id = dusunidku)\n",
    "                with engine.connect() as conn:\n",
    "                    conn.execute(stmt)\n",
    "    \n",
    "    \n"
   ]
  },
  {
   "cell_type": "code",
   "execution_count": 17,
   "metadata": {},
   "outputs": [
    {
     "name": "stdout",
     "output_type": "stream",
     "text": [
      "tabel_aparat\n",
      "     AparatID             Nama                      Email\n",
      "0           1    Anatari Sukma    Anatari.Sukma@gmail.com\n",
      "1           2    Shahib Luthfi    Shahib.Luthfi@gmail.com\n",
      "2           3    Syazwan Nasri    Syazwan.Nasri@gmail.com\n",
      "3           4     Jalal Watsiq     Jalal.Watsiq@gmail.com\n",
      "4           5       Alia Sahna       Alia.Sahna@gmail.com\n",
      "..        ...              ...                        ...\n",
      "344       345     Saira Avanti     Saira.Avanti@gmail.com\n",
      "345       346      Dabir Nasri      Dabir.Nasri@gmail.com\n",
      "346       347    Zuhayr Fattan    Zuhayr.Fattan@gmail.com\n",
      "347       348        Max Lafiz        Max.Lafiz@gmail.com\n",
      "348       349  Thandie Halimah  Thandie.Halimah@gmail.com\n",
      "\n",
      "[349 rows x 3 columns]\n"
     ]
    }
   ],
   "source": [
    "wargadesaku = pd.read_sql_query('SELECT * FROM wargadesa',engine)\n",
    "desaku = wargadesaku[wargadesaku.Pekerjaan == \"PEGAWAI NEGERI SIPIL\"]\n",
    "for ind,row in desaku.iterrows():\n",
    "    emaildasar = '.'.join(row['Nama'].split()) + '@gmail.com'\n",
    "    stmt = insert(aparat_desa).values(Nama=row['Nama'],Email=emaildasar)\n",
    "    with engine.connect() as conn:\n",
    "        conn.execute(stmt)\n",
    "\n",
    "tabel_aparat = pd.read_sql_query('SELECT * FROM AparatDesa',engine)\n",
    "print(\"tabel_aparat\")\n",
    "print(tabel_aparat)"
   ]
  }
 ],
 "metadata": {
  "kernelspec": {
   "display_name": "Python 3.10.6 ('ML')",
   "language": "python",
   "name": "python3"
  },
  "language_info": {
   "codemirror_mode": {
    "name": "ipython",
    "version": 3
   },
   "file_extension": ".py",
   "mimetype": "text/x-python",
   "name": "python",
   "nbconvert_exporter": "python",
   "pygments_lexer": "ipython3",
   "version": "3.10.6"
  },
  "orig_nbformat": 4,
  "vscode": {
   "interpreter": {
    "hash": "35af5f3c686b728abd50074d66c9f6734ed63ffe612cb54450a01e172d14fa70"
   }
  }
 },
 "nbformat": 4,
 "nbformat_minor": 2
}
